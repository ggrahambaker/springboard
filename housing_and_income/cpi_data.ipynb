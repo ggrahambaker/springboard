{
 "cells": [
  {
   "cell_type": "code",
   "execution_count": 1,
   "metadata": {},
   "outputs": [],
   "source": [
    "import requests\n",
    "import json\n",
    "import pandas as pd\n",
    "import numpy as np\n",
    "from fredapi import Fred"
   ]
  },
  {
   "cell_type": "code",
   "execution_count": 37,
   "metadata": {},
   "outputs": [
    {
     "name": "stdout",
     "output_type": "stream",
     "text": [
      "index:  1960-01-01 00:00:00 value:  12.4780079066059\n",
      "index:  1961-01-01 00:00:00 value:  12.6116129504072\n",
      "index:  1962-01-01 00:00:00 value:  12.7627976052351\n",
      "index:  1963-01-01 00:00:00 value:  12.9210141044735\n",
      "index:  1964-01-01 00:00:00 value:  13.0862624481226\n",
      "index:  1965-01-01 00:00:00 value:  13.2937018582352\n",
      "index:  1966-01-01 00:00:00 value:  13.6945169896393\n",
      "index:  1967-01-01 00:00:00 value:  14.0742365878116\n",
      "index:  1968-01-01 00:00:00 value:  14.6754592849177\n",
      "index:  1969-01-01 00:00:00 value:  15.4770895477258\n",
      "index:  1970-01-01 00:00:00 value:  16.3806815544876\n",
      "index:  1971-01-01 00:00:00 value:  17.0838659955474\n",
      "index:  1972-01-01 00:00:00 value:  17.64289762619\n",
      "index:  1973-01-01 00:00:00 value:  18.7328335098326\n",
      "index:  1974-01-01 00:00:00 value:  20.8037116887537\n",
      "index:  1975-01-01 00:00:00 value:  22.7058256018204\n",
      "index:  1976-01-01 00:00:00 value:  24.0102327399863\n",
      "index:  1977-01-01 00:00:00 value:  25.571302199139\n",
      "index:  1978-01-01 00:00:00 value:  27.5226390230799\n",
      "index:  1979-01-01 00:00:00 value:  30.6201664859483\n",
      "index:  1980-01-01 00:00:00 value:  34.768954688201\n",
      "index:  1981-01-01 00:00:00 value:  38.3622271820165\n",
      "index:  1982-01-01 00:00:00 value:  40.7143791373614\n",
      "index:  1983-01-01 00:00:00 value:  42.0223021977326\n",
      "index:  1984-01-01 00:00:00 value:  43.8294862112563\n",
      "index:  1985-01-01 00:00:00 value:  45.3835238259984\n",
      "index:  1986-01-01 00:00:00 value:  46.2449247662966\n",
      "index:  1987-01-01 00:00:00 value:  47.9395992692507\n",
      "index:  1988-01-01 00:00:00 value:  49.8944520153969\n",
      "index:  1989-01-01 00:00:00 value:  52.3028587260267\n",
      "index:  1990-01-01 00:00:00 value:  55.1261442568817\n",
      "index:  1991-01-01 00:00:00 value:  57.4607166012002\n",
      "index:  1992-01-01 00:00:00 value:  59.2010980928232\n",
      "index:  1993-01-01 00:00:00 value:  60.9485114288567\n",
      "index:  1994-01-01 00:00:00 value:  62.5377082656518\n",
      "index:  1995-01-01 00:00:00 value:  64.292153446096\n",
      "index:  1996-01-01 00:00:00 value:  66.1766877481362\n",
      "index:  1997-01-01 00:00:00 value:  67.7236935184677\n",
      "index:  1998-01-01 00:00:00 value:  68.7749542578521\n",
      "index:  1999-01-01 00:00:00 value:  70.27976896172\n",
      "index:  2000-01-01 00:00:00 value:  72.6530164502968\n",
      "index:  2001-01-01 00:00:00 value:  74.7063150181914\n",
      "index:  2002-01-01 00:00:00 value:  75.8911808013771\n",
      "index:  2003-01-01 00:00:00 value:  77.6139826819736\n",
      "index:  2004-01-01 00:00:00 value:  79.6918927053052\n",
      "index:  2005-01-01 00:00:00 value:  82.3956368811801\n",
      "index:  2006-01-01 00:00:00 value:  85.0536740683861\n",
      "index:  2007-01-01 00:00:00 value:  87.4799768230408\n",
      "index:  2008-01-01 00:00:00 value:  90.8384208727644\n",
      "index:  2009-01-01 00:00:00 value:  90.5154482589856\n",
      "index:  2010-01-01 00:00:00 value:  91.9999409325069\n",
      "index:  2011-01-01 00:00:00 value:  94.9042333109721\n",
      "index:  2012-01-01 00:00:00 value:  96.8681219771859\n",
      "index:  2013-01-01 00:00:00 value:  98.2870778608004\n",
      "index:  2014-01-01 00:00:00 value:  99.8815134216814\n",
      "index:  2015-01-01 00:00:00 value:  100.0\n",
      "index:  2016-01-01 00:00:00 value:  101.261583205705\n",
      "index:  2017-01-01 00:00:00 value:  103.418566319434\n",
      "index:  2018-01-01 00:00:00 value:  105.944650946275\n"
     ]
    }
   ],
   "source": [
    "fred = Fred(api_key='83dd44fe528f2b9ef86fd007dc7235f7')\n",
    "cpi = fred.get_series('CPALTT01USA661S')\n",
    "cpi = cpi[5:]\n",
    "#pd.to_datetime(raw_data['Mycol'], format='%d%b%Y:%H:%M:%S.%f')\n",
    "#for index, value in cpi.items():\n",
    "#    print('index: ', index, 'value: ', value)"
   ]
  },
  {
   "cell_type": "code",
   "execution_count": 42,
   "metadata": {},
   "outputs": [
    {
     "data": {
      "text/html": [
       "<div>\n",
       "<style scoped>\n",
       "    .dataframe tbody tr th:only-of-type {\n",
       "        vertical-align: middle;\n",
       "    }\n",
       "\n",
       "    .dataframe tbody tr th {\n",
       "        vertical-align: top;\n",
       "    }\n",
       "\n",
       "    .dataframe thead th {\n",
       "        text-align: right;\n",
       "    }\n",
       "</style>\n",
       "<table border=\"1\" class=\"dataframe\">\n",
       "  <thead>\n",
       "    <tr style=\"text-align: right;\">\n",
       "      <th></th>\n",
       "      <th>year</th>\n",
       "      <th>time</th>\n",
       "    </tr>\n",
       "  </thead>\n",
       "  <tbody>\n",
       "    <tr>\n",
       "      <th>0</th>\n",
       "      <td>1960-01-01</td>\n",
       "      <td>12.478008</td>\n",
       "    </tr>\n",
       "    <tr>\n",
       "      <th>1</th>\n",
       "      <td>1961-01-01</td>\n",
       "      <td>12.611613</td>\n",
       "    </tr>\n",
       "    <tr>\n",
       "      <th>2</th>\n",
       "      <td>1962-01-01</td>\n",
       "      <td>12.762798</td>\n",
       "    </tr>\n",
       "    <tr>\n",
       "      <th>3</th>\n",
       "      <td>1963-01-01</td>\n",
       "      <td>12.921014</td>\n",
       "    </tr>\n",
       "    <tr>\n",
       "      <th>4</th>\n",
       "      <td>1964-01-01</td>\n",
       "      <td>13.086262</td>\n",
       "    </tr>\n",
       "  </tbody>\n",
       "</table>\n",
       "</div>"
      ],
      "text/plain": [
       "        year       time\n",
       "0 1960-01-01  12.478008\n",
       "1 1961-01-01  12.611613\n",
       "2 1962-01-01  12.762798\n",
       "3 1963-01-01  12.921014\n",
       "4 1964-01-01  13.086262"
      ]
     },
     "execution_count": 42,
     "metadata": {},
     "output_type": "execute_result"
    }
   ],
   "source": [
    "cpi_df = pd.DataFrame({'year': cpi.index, 'time' : cpi.values})\n",
    "cpi_df.head()"
   ]
  },
  {
   "cell_type": "code",
   "execution_count": 29,
   "metadata": {},
   "outputs": [],
   "source": [
    "file = 'cpi.csv'\n",
    "cpi.to_csv(file)\n",
    "# More recent dollars in terms of past dollars = Dollar Amount × Beginning-period CPI ÷ Ending-period CPI."
   ]
  },
  {
   "cell_type": "code",
   "execution_count": 31,
   "metadata": {},
   "outputs": [
    {
     "ename": "TypeError",
     "evalue": "parser_f() got an unexpected keyword argument 'columns'",
     "output_type": "error",
     "traceback": [
      "\u001b[0;31m---------------------------------------------------------------------------\u001b[0m",
      "\u001b[0;31mTypeError\u001b[0m                                 Traceback (most recent call last)",
      "\u001b[0;32m<ipython-input-31-7c59a26c5933>\u001b[0m in \u001b[0;36m<module>\u001b[0;34m\u001b[0m\n\u001b[1;32m      1\u001b[0m \u001b[0;34m\u001b[0m\u001b[0m\n\u001b[0;32m----> 2\u001b[0;31m \u001b[0mcpi_test\u001b[0m \u001b[0;34m=\u001b[0m \u001b[0mpd\u001b[0m\u001b[0;34m.\u001b[0m\u001b[0mread_csv\u001b[0m\u001b[0;34m(\u001b[0m\u001b[0mfile\u001b[0m\u001b[0;34m,\u001b[0m \u001b[0mcolumns\u001b[0m\u001b[0;34m=\u001b[0m\u001b[0;34m[\u001b[0m\u001b[0;34m'year'\u001b[0m\u001b[0;34m,\u001b[0m \u001b[0;34m'cpi'\u001b[0m\u001b[0;34m]\u001b[0m \u001b[0;34m)\u001b[0m\u001b[0;34m\u001b[0m\u001b[0;34m\u001b[0m\u001b[0m\n\u001b[0m\u001b[1;32m      3\u001b[0m \u001b[0mcpi_test\u001b[0m\u001b[0;34m\u001b[0m\u001b[0;34m\u001b[0m\u001b[0m\n",
      "\u001b[0;31mTypeError\u001b[0m: parser_f() got an unexpected keyword argument 'columns'"
     ]
    }
   ],
   "source": [
    "cpi_test = pd.read_csv(file)\n",
    "cpi_test"
   ]
  },
  {
   "cell_type": "code",
   "execution_count": null,
   "metadata": {},
   "outputs": [],
   "source": []
  },
  {
   "cell_type": "code",
   "execution_count": null,
   "metadata": {},
   "outputs": [],
   "source": []
  }
 ],
 "metadata": {
  "kernelspec": {
   "display_name": "Python 3",
   "language": "python",
   "name": "python3"
  },
  "language_info": {
   "codemirror_mode": {
    "name": "ipython",
    "version": 3
   },
   "file_extension": ".py",
   "mimetype": "text/x-python",
   "name": "python",
   "nbconvert_exporter": "python",
   "pygments_lexer": "ipython3",
   "version": "3.7.1"
  }
 },
 "nbformat": 4,
 "nbformat_minor": 2
}
